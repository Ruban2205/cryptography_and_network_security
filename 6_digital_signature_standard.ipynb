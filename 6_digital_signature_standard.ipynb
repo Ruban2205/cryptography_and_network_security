{
 "cells": [
  {
   "cell_type": "markdown",
   "id": "4350fabd",
   "metadata": {},
   "source": [
    "# <center> Implement Signature Scheme - Digital Signature Standard </center>"
   ]
  },
  {
   "cell_type": "code",
   "execution_count": 3,
   "id": "56ba4510",
   "metadata": {},
   "outputs": [
    {
     "name": "stdout",
     "output_type": "stream",
     "text": [
      "P: 7\n",
      "Q: 3\n",
      "Private_Key: 2\n",
      "Hashed message: 3\n",
      "2 4\n",
      "Public_Key:  2\n",
      "Random Integer:  1\n",
      "Digital Signature:  [1, 2]\n",
      "W:  2\n",
      "u1:  0\n",
      "u2:  2\n",
      "V:  1\n",
      "Signature is Verified\n"
     ]
    }
   ],
   "source": [
    "import random \n",
    "\n",
    "p = int(input(\"P: \"))\n",
    "q = int(input(\"Q: \"))\n",
    "x = int(input(\"Private_Key: \"))\n",
    "M = int(input(\"Hashed message: \"))\n",
    "\n",
    "h = random.randint(2, p-2)\n",
    "g = int(h ** ((p-1)/q))\n",
    "\n",
    "print(h, g)\n",
    "\n",
    "y = (g ** x) % p \n",
    "k = random.randint(1, q-1)\n",
    "\n",
    "print(\"Public_Key: \", y)\n",
    "print(\"Random Integer: \", k)\n",
    "\n",
    "r = ((g**k) % p) % q \n",
    "\n",
    "for i in range(1, q): \n",
    "    if k*i % q == 1: \n",
    "        s = (i*(M + x*r)) % q\n",
    "        break\n",
    "\n",
    "dig_sign = [r, s]\n",
    "print(\"Digital Signature: \", dig_sign)\n",
    "\n",
    "w = 0 \n",
    "\n",
    "r, s = dig_sign[0], dig_sign[1]\n",
    "\n",
    "for i in range(2, 20): \n",
    "    if (i*s) % q == 1: \n",
    "        w = i \n",
    "        break \n",
    "\n",
    "u1 = (M * w) % q\n",
    "u2 = (r * w) % q \n",
    "v = (((g ** u1) * (y ** u2)) % p) % q\n",
    "\n",
    "print(\"W: \", w)\n",
    "print(\"u1: \", u1)\n",
    "print(\"u2: \", u2)\n",
    "print(\"V: \", v)\n",
    "\n",
    "if v == r: \n",
    "    print(\"Signature is Verified\")\n",
    "else: \n",
    "    print(\"Signature is not Verified\")"
   ]
  },
  {
   "cell_type": "code",
   "execution_count": null,
   "id": "240a840f",
   "metadata": {},
   "outputs": [],
   "source": []
  }
 ],
 "metadata": {
  "kernelspec": {
   "display_name": "Python 3",
   "language": "python",
   "name": "python3"
  },
  "language_info": {
   "codemirror_mode": {
    "name": "ipython",
    "version": 3
   },
   "file_extension": ".py",
   "mimetype": "text/x-python",
   "name": "python",
   "nbconvert_exporter": "python",
   "pygments_lexer": "ipython3",
   "version": "3.7.9"
  }
 },
 "nbformat": 4,
 "nbformat_minor": 5
}
