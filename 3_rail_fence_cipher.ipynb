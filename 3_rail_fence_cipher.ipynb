{
 "cells": [
  {
   "cell_type": "markdown",
   "id": "442c8bad-1e7a-454d-898e-4375eecd5efc",
   "metadata": {},
   "source": [
    "# <center> Implement Transposition Cipher (Rail Fence Cipher) </center>"
   ]
  },
  {
   "cell_type": "code",
   "execution_count": 1,
   "id": "6e32a3c7-5fe0-40b2-9117-3e03cc843c9c",
   "metadata": {},
   "outputs": [
    {
     "name": "stdout",
     "output_type": "stream",
     "text": [
      "r           g          \n",
      "  u           i       a\n",
      "    b   n       n      \n",
      "      a           o    \n",
      "rguiabnnao\n"
     ]
    }
   ],
   "source": [
    "# Rail Fence Cipher\n",
    "\n",
    "s = input(\"Enter the String: \")\n",
    "k = int(input(\"Enter the key: \"))\n",
    "\n",
    "enc = [[\" \" for i in range(len(s))] for j in range(k)]\n",
    "\n",
    "flag = 0 \n",
    "row = 0 \n",
    "\n",
    "for i in range(len(s)): \n",
    "    enc[row][i] = s[i]\n",
    "\n",
    "    if row == 0: \n",
    "        flag = 0\n",
    "    elif row == k-1: \n",
    "        flag = 1\n",
    "\n",
    "    if flag == 0: \n",
    "        row += 1 \n",
    "    else: \n",
    "        row -= 1\n",
    "\n",
    "for i in range(k): \n",
    "    print(\" \".join(enc[i]))\n",
    "\n",
    "ct = [] \n",
    "for i in range(k): \n",
    "    for j in range(len(s)): \n",
    "        if enc[i][j] != ' ': \n",
    "            ct.append(enc[i][j])\n",
    "print(\"\".join(ct))"
   ]
  }
 ],
 "metadata": {
  "kernelspec": {
   "display_name": "Python 3 (ipykernel)",
   "language": "python",
   "name": "python3"
  },
  "language_info": {
   "codemirror_mode": {
    "name": "ipython",
    "version": 3
   },
   "file_extension": ".py",
   "mimetype": "text/x-python",
   "name": "python",
   "nbconvert_exporter": "python",
   "pygments_lexer": "ipython3",
   "version": "3.7.9"
  }
 },
 "nbformat": 4,
 "nbformat_minor": 5
}
