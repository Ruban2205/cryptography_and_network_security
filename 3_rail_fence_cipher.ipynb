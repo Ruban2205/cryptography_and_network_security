{
 "cells": [
  {
   "cell_type": "markdown",
   "id": "442c8bad-1e7a-454d-898e-4375eecd5efc",
   "metadata": {},
   "source": [
    "# <center> Implement Transposition Cipher (Rail Fence Cipher) </center>"
   ]
  },
  {
   "cell_type": "code",
   "execution_count": 1,
   "id": "6e32a3c7-5fe0-40b2-9117-3e03cc843c9c",
   "metadata": {},
   "outputs": [],
   "source": [
    "# Rail Fence Cipher"
   ]
  }
 ],
 "metadata": {
  "kernelspec": {
   "display_name": "Python 3 (ipykernel)",
   "language": "python",
   "name": "python3"
  },
  "language_info": {
   "codemirror_mode": {
    "name": "ipython",
    "version": 3
   },
   "file_extension": ".py",
   "mimetype": "text/x-python",
   "name": "python",
   "nbconvert_exporter": "python",
   "pygments_lexer": "ipython3",
   "version": "3.9.15"
  }
 },
 "nbformat": 4,
 "nbformat_minor": 5
}
