{
 "cells": [
  {
   "cell_type": "markdown",
   "id": "5c47a515-750d-40ce-84e3-9e821f5539e9",
   "metadata": {},
   "source": [
    "# <center> Implementation of Caesar Cipher</center>"
   ]
  },
  {
   "cell_type": "markdown",
   "id": "ff670aa4-29e3-4867-818a-cc45f7578e91",
   "metadata": {},
   "source": [
    "### 1) Implement Substitution Cipher (Caser Cipher) "
   ]
  },
  {
   "cell_type": "code",
   "execution_count": 6,
   "id": "60324328-6fed-4d04-812e-2d5782c98318",
   "metadata": {},
   "outputs": [
    {
     "name": "stdin",
     "output_type": "stream",
     "text": [
      "Enter the number:  3\n",
      " rubanginosingh\n"
     ]
    },
    {
     "name": "stdout",
     "output_type": "stream",
     "text": [
      "Encrypted Text:  uxedqjlqrvlqjk\n"
     ]
    }
   ],
   "source": [
    "num = int(input(\"Enter the number: \"))\n",
    "inputString = input()\n",
    "ins = inputString.lower()\n",
    "li=[]\n",
    "for ch in ins:\n",
    "    n=0\n",
    "    n = ord(ch)+num\n",
    "    if(n>122):\n",
    "        n = n - 26\n",
    "        li.append(chr(n))\n",
    "    else:\n",
    "        li.append(chr(n))\n",
    "out = ''.join(li)\n",
    "print(\"Encrypted Text: \", out)"
   ]
  },
  {
   "cell_type": "markdown",
   "id": "c3ae0b9a-cb22-4620-ab71-d7cb50fdc295",
   "metadata": {},
   "source": [
    "---"
   ]
  }
 ],
 "metadata": {
  "kernelspec": {
   "display_name": "Python 3",
   "language": "python",
   "name": "python3"
  },
  "language_info": {
   "codemirror_mode": {
    "name": "ipython",
    "version": 3
   },
   "file_extension": ".py",
   "mimetype": "text/x-python",
   "name": "python",
   "nbconvert_exporter": "python",
   "pygments_lexer": "ipython3",
   "version": "3.7.9"
  }
 },
 "nbformat": 4,
 "nbformat_minor": 5
}
