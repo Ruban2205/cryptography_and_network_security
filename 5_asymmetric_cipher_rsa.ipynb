{
 "cells": [
  {
   "cell_type": "markdown",
   "id": "d841cda0-522c-4e73-bd0e-9f73b6a44f1b",
   "metadata": {},
   "source": [
    "# <center> Asymmetric Cipher - RSA </center> \n",
    "\n",
    "Implementation of the RSA (Rivest-Shamir-Adleman) encryption and decryption algorithm, a widely used method for secure data transmission. It begins by soliciting two prime numbers, 'p' and 'q,' from the user. These primes are employed to calculate 'n,' which is a fundamental component of the RSA key pair. The program proceeds to generate a random prime number, 'e,' which serves as the public exponent. This choice of 'e' ensures its relative primality with 'z,' where 'z' is computed as '(p - 1) * (q - 1).' Next, the program determines the private key, 'd,' using the modular inverse of 'e' modulo 'z.' The user is prompted to input a message, which should be an integer less than 'n' and relatively prime to 'n.' The program encrypts this message using the public key, producing ciphertext. Subsequently, it decrypts the ciphertext using the private key, effectively restoring the original message. The program's output displays the original message, the ciphertext, and the successfully decrypted message, providing a functional demonstration of RSA encryption and decryption. The user's responsibility is to provide valid prime numbers for 'p' and 'q' to ensure the security of the RSA encryption and to guarantee that the input message adheres to the necessary conditions for the algorithm to operate correctly."
   ]
  },
  {
   "cell_type": "code",
   "execution_count": 5,
   "id": "d84b786d-805c-4169-8d37-b501b4906fcb",
   "metadata": {},
   "outputs": [
    {
     "name": "stdin",
     "output_type": "stream",
     "text": [
      "Enter a prime number p:  17\n",
      "Enter another prime number q:  19\n",
      "Enter a message (a number, should be less than n and relatively prime to n):  5\n"
     ]
    },
    {
     "name": "stdout",
     "output_type": "stream",
     "text": [
      "Original Message: 5\n",
      "Cipher Text: 176\n",
      "Decrypted Message: 5\n"
     ]
    }
   ],
   "source": [
    "import random\n",
    "import math\n",
    "\n",
    "def gcd(a, b):\n",
    "    if b == 0:\n",
    "        return a\n",
    "    return gcd(b, a % b)\n",
    "\n",
    "def mod_inverse(a, m):\n",
    "    m0, x0, x1 = m, 0, 1\n",
    "    while a > 1:\n",
    "        q = a // m\n",
    "        m, a = a % m, m\n",
    "        x0, x1 = x1 - q * x0, x0\n",
    "    return x1 + m0 if x1 < 0 else x1\n",
    "\n",
    "def encrypt(message, e, n):\n",
    "    return (message ** e) % n\n",
    "\n",
    "def decrypt(cipher, d, n):\n",
    "    return (cipher ** d) % n\n",
    "\n",
    "p = int(input(\"Enter a prime number p: \"))\n",
    "q = int(input(\"Enter another prime number q: \"))\n",
    "\n",
    "n = p * q\n",
    "\n",
    "z = (p - 1) * (q - 1)\n",
    "\n",
    "def is_prime(num):\n",
    "    if num <= 1:\n",
    "        return False\n",
    "    if num == 2:\n",
    "        return True\n",
    "    if num % 2 == 0:\n",
    "        return False\n",
    "    for i in range(3, int(math.sqrt(num)) + 1, 2):\n",
    "        if num % i == 0:\n",
    "            return False\n",
    "    return True\n",
    "\n",
    "e = random.randint(2, z - 1)\n",
    "while not is_prime(e):\n",
    "    e = random.randint(2, z - 1)\n",
    "    \n",
    "d = mod_inverse(e, z)\n",
    "\n",
    "message = int(input(\"Enter a message (a number, should be less than n and relatively prime to n): \"))\n",
    "\n",
    "while gcd(message, n) != 1:\n",
    "    print(\"The message must be relatively prime to n. Please choose another message.\")\n",
    "    message = int(input(\"Enter a message (a number, should be less than n and relatively prime to n): \"))\n",
    "\n",
    "cipher_text = encrypt(message, e, n)\n",
    "\n",
    "decrypted_message = decrypt(cipher_text, d, n)\n",
    "\n",
    "print(f\"Original Message: {message}\")\n",
    "print(f\"Cipher Text: {cipher_text}\")\n",
    "print(f\"Decrypted Message: {decrypted_message}\")"
   ]
  },
  {
   "cell_type": "code",
   "execution_count": null,
   "id": "17691546-ffed-4427-91da-417e09da58d8",
   "metadata": {},
   "outputs": [],
   "source": []
  }
 ],
 "metadata": {
  "kernelspec": {
   "display_name": "Python 3 (ipykernel)",
   "language": "python",
   "name": "python3"
  },
  "language_info": {
   "codemirror_mode": {
    "name": "ipython",
    "version": 3
   },
   "file_extension": ".py",
   "mimetype": "text/x-python",
   "name": "python",
   "nbconvert_exporter": "python",
   "pygments_lexer": "ipython3",
   "version": "3.9.15"
  }
 },
 "nbformat": 4,
 "nbformat_minor": 5
}
