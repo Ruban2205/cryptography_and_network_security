{
 "cells": [
  {
   "cell_type": "markdown",
   "id": "566f6ed2-852f-46f1-8409-3d476e225465",
   "metadata": {},
   "source": [
    "# <center>Implement the logical XOR operation to prove its usage in cryptography</center> "
   ]
  },
  {
   "cell_type": "markdown",
   "id": "f8c1c746-2f6b-4dfd-9ee9-36ecc6cd35a3",
   "metadata": {},
   "source": [
    "### 1) Write a program to check whether a given integer is odd or even.\n",
    "\n",
    "This Python program is designed to determine whether a given integer is odd or even using bitwise operations. The user is prompted to input an integer, which is stored in the variable 'n'. The program then performs a bitwise XOR operation between 'n' and '1'."
   ]
  },
  {
   "cell_type": "code",
   "execution_count": 7,
   "id": "796d334d-30c0-45bb-bb57-48e07527b711",
   "metadata": {},
   "outputs": [
    {
     "name": "stdin",
     "output_type": "stream",
     "text": [
      "Enter the nubmer:  1\n"
     ]
    },
    {
     "name": "stdout",
     "output_type": "stream",
     "text": [
      "Odd\n"
     ]
    }
   ],
   "source": [
    "n = int(input(\"Enter the nubmer: \"))\n",
    "\n",
    "if n^1 == n+1: \n",
    "    print(\"Even\")\n",
    "else: \n",
    "    print(\"Odd\")\n"
   ]
  },
  {
   "cell_type": "markdown",
   "id": "c5faa8ab-4f73-49e7-8fca-365384b21c45",
   "metadata": {},
   "source": [
    "---"
   ]
  },
  {
   "cell_type": "markdown",
   "id": "5bbecc62-c381-4f62-a29d-f8ce984a8e35",
   "metadata": {},
   "source": [
    "### 2) Perform swapping between two integers and display the swapped values.\n",
    "\n",
    "This Python program is designed to swap the values of two integers, 'num1' and 'num2', using arithmetic operations. The user is prompted to input two integer values, which are stored in the respective variables. The program then performs a sequence of arithmetic operations to exchange the values of the two variables."
   ]
  },
  {
   "cell_type": "code",
   "execution_count": 2,
   "id": "b2151b79-f6e1-462b-9ad6-c21eb9b16371",
   "metadata": {},
   "outputs": [
    {
     "name": "stdin",
     "output_type": "stream",
     "text": [
      "Enter the first number:  10\n",
      "Enter the second number:  20\n"
     ]
    },
    {
     "name": "stdout",
     "output_type": "stream",
     "text": [
      "\n",
      "Before Swap!\n",
      "Num1:  10\n",
      "Num2:  20\n",
      "\n",
      "After Swap!\n",
      "Num1:  20\n",
      "Num2:  10\n"
     ]
    }
   ],
   "source": [
    "num1 = int(input(\"Enter the first number: \"))\n",
    "num2 = int(input(\"Enter the second number: \"))\n",
    "\n",
    "print(\"\\nBefore Swap!\")\n",
    "print(\"Num1: \", num1) \n",
    "print(\"Num2: \", num2) \n",
    "\n",
    "num1 = num1 + num2\n",
    "num2 = num1 - num2 \n",
    "num1 = num1 - num2\n",
    "\n",
    "print(\"\\nAfter Swap!\")\n",
    "print(\"Num1: \", num1) \n",
    "print(\"Num2: \", num2) \n"
   ]
  },
  {
   "cell_type": "markdown",
   "id": "54c1a285-2962-46f0-8389-053cf5dee820",
   "metadata": {},
   "source": [
    "---"
   ]
  },
  {
   "cell_type": "markdown",
   "id": "e71ac1fc-10a0-40d6-834d-03f592458e73",
   "metadata": {},
   "source": [
    "### 3) Write a program that contains a string(charpointer) with a value\\Hello World'. The program should XOR each character in this string with 0, 127 and display the result. \n",
    "\n",
    "This Python program demonstrates a simple XOR encryption technique applied to a character pointer. The program defines a function 'xor_with_value' that performs the XOR operation between each character in a given string and a specified value. The XOR operation is used to encode and decode the string. The program then showcases this encryption by applying the function to a sample string, displaying the original and encrypted versions for two different XOR values."
   ]
  },
  {
   "cell_type": "code",
   "execution_count": 1,
   "id": "3184544d-a2a2-4e07-a200-202e39e68a0c",
   "metadata": {},
   "outputs": [
    {
     "name": "stdout",
     "output_type": "stream",
     "text": [
      "Original string: Hello World\n",
      "XOR with 0: Hello World\n",
      "\u0013\u001bR with 127: 7\u001a\u0013\u0013\u0010_(\u0010\n"
     ]
    }
   ],
   "source": [
    "def xor_with_value(char_pointer, value):\n",
    "    result = ''.join(chr(ord(char) ^ value) for char in char_pointer)\n",
    "    return result\n",
    "\n",
    "if __name__ == \"__main__\":\n",
    "    char_pointer = \"Hello World\"\n",
    "\n",
    "    print(\"Original string:\", char_pointer)\n",
    "\n",
    "    xor_with_0 = xor_with_value(char_pointer, 0)\n",
    "    print(\"XOR with 0:\", xor_with_0)\n",
    "\n",
    "    xor_with_127 = xor_with_value(char_pointer, 127)\n",
    "    print(\"XOR with 127:\", xor_with_127)"
   ]
  },
  {
   "cell_type": "markdown",
   "id": "2724f4d1-3ffb-4de8-b441-4af500537531",
   "metadata": {},
   "source": [
    "---"
   ]
  },
  {
   "cell_type": "markdown",
   "id": "2255d102-e0c2-422d-b3ae-a5b9139336c5",
   "metadata": {},
   "source": [
    "### 4) Prove the security feature when one time padding operation is performed using logical XOR\n",
    "\n",
    "This Python program demonstrates a basic text encryption and decryption technique using the XOR (exclusive OR) operation. It defines two functions, 'encrypt' and 'decrypt', which use the XOR operation to transform plaintext into encrypted text and vice versa. The program then showcases the encryption and decryption process by applying these functions to a sample plaintext and a corresponding key."
   ]
  },
  {
   "cell_type": "code",
   "execution_count": 3,
   "id": "dca4a5e4-db68-4b7f-968b-1c5d4f2b7a3d",
   "metadata": {},
   "outputs": [
    {
     "name": "stdout",
     "output_type": "stream",
     "text": [
      "Plaintext: Hello World\n",
      "Key: Norandomkey\n",
      "Encrypted Text: \u0006\n",
      "\u0001D8\u0002\u0019\t\u001d",
      "\n",
      "Decrypted Text: Hello World\n"
     ]
    }
   ],
   "source": [
    "def encrypt(plaintext, key):\n",
    "    encrypted_text = ''.join(chr(ord(plain_char) ^ ord(key_char)) for plain_char, key_char in zip(plaintext, key))\n",
    "    return encrypted_text\n",
    "\n",
    "def decrypt(encrypted_text, key):\n",
    "    decrypted_text = ''.join(chr(ord(encrypted_char) ^ ord(key_char)) for encrypted_char, key_char in zip(encrypted_text, key))\n",
    "    return decrypted_text\n",
    "\n",
    "if __name__ == \"__main__\":\n",
    "    plaintext = \"Hello World\"\n",
    "    key = \"Norandomkey\"  # The key should be truly random and the same length as the plaintext\n",
    "\n",
    "    print(\"Plaintext:\", plaintext)\n",
    "    print(\"Key:\", key)\n",
    "\n",
    "    # Encrypt the plaintext using XOR with the key\n",
    "    encrypted_text = encrypt(plaintext, key)\n",
    "    print(\"Encrypted Text:\", encrypted_text)\n",
    "\n",
    "    # Decrypt the encrypted text using XOR with the same key\n",
    "    decrypted_text = decrypt(encrypted_text, key)\n",
    "    print(\"Decrypted Text:\", decrypted_text)\n"
   ]
  },
  {
   "cell_type": "markdown",
   "id": "a694ad37-f7c0-4e0c-98d3-528aeaa48132",
   "metadata": {},
   "source": [
    "---"
   ]
  }
 ],
 "metadata": {
  "kernelspec": {
   "display_name": "Python 3",
   "language": "python",
   "name": "python3"
  },
  "language_info": {
   "codemirror_mode": {
    "name": "ipython",
    "version": 3
   },
   "file_extension": ".py",
   "mimetype": "text/x-python",
   "name": "python",
   "nbconvert_exporter": "python",
   "pygments_lexer": "ipython3",
   "version": "3.7.9"
  }
 },
 "nbformat": 4,
 "nbformat_minor": 5
}
