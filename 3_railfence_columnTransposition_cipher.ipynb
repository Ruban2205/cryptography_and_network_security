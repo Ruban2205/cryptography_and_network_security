{
 "cells": [
  {
   "cell_type": "markdown",
   "id": "442c8bad-1e7a-454d-898e-4375eecd5efc",
   "metadata": {},
   "source": [
    "# <center> Column Transposition and Rail Fence Cipher </center>"
   ]
  },
  {
   "cell_type": "markdown",
   "id": "eac5f2be",
   "metadata": {},
   "source": [
    "## Rail Fence Cipher"
   ]
  },
  {
   "cell_type": "markdown",
   "id": "da0acef6",
   "metadata": {},
   "source": [
    "In the rail fence cipher, the plaintext is written downwards diagonally on successive \"rails\" of an imaginary fence, then moving up when the bottom rail is reached, down again when the top rail is reached, and so on until the whole plaintext is written out. The ciphertext is then read off in rows."
   ]
  },
  {
   "cell_type": "code",
   "execution_count": 1,
   "id": "6e32a3c7-5fe0-40b2-9117-3e03cc843c9c",
   "metadata": {},
   "outputs": [
    {
     "name": "stdout",
     "output_type": "stream",
     "text": [
      "r           g          \n",
      "  u           i       a\n",
      "    b   n       n      \n",
      "      a           o    \n",
      "rguiabnnao\n"
     ]
    }
   ],
   "source": [
    "# Rail Fence Cipher\n",
    "\n",
    "s = input(\"Enter the String: \")\n",
    "k = int(input(\"Enter the key: \"))\n",
    "\n",
    "enc = [[\" \" for i in range(len(s))] for j in range(k)]\n",
    "\n",
    "flag = 0 \n",
    "row = 0 \n",
    "\n",
    "for i in range(len(s)): \n",
    "    enc[row][i] = s[i]\n",
    "\n",
    "    if row == 0: \n",
    "        flag = 0\n",
    "    elif row == k-1: \n",
    "        flag = 1\n",
    "\n",
    "    if flag == 0: \n",
    "        row += 1 \n",
    "    else: \n",
    "        row -= 1\n",
    "\n",
    "for i in range(k): \n",
    "    print(\" \".join(enc[i]))\n",
    "\n",
    "ct = [] \n",
    "for i in range(k): \n",
    "    for j in range(len(s)): \n",
    "        if enc[i][j] != ' ': \n",
    "            ct.append(enc[i][j])\n",
    "print(\"\".join(ct))"
   ]
  },
  {
   "cell_type": "markdown",
   "id": "1d491ee7",
   "metadata": {},
   "source": [
    "##  Column Transposition Cipher"
   ]
  },
  {
   "cell_type": "markdown",
   "id": "3b0d29c3",
   "metadata": {},
   "source": [
    "In cryptography, a transposition cipher (also known as a permutation cipher) is a method of encryption which scrambles the positions of characters (transposition) without changing the characters themselves. Transposition ciphers reorder units of plaintext (typically characters or groups of characters) according to a regular system to produce a ciphertext which is a permutation of the plaintext. They differ from substitution ciphers, which do not change the position of units of plaintext but instead change the units themselves. Despite the difference between transposition and substitution operations, they are often combined, as in historical ciphers like the ADFGVX cipher or complex high-quality encryption methods like the modern Advanced Encryption Standard (AES)."
   ]
  },
  {
   "cell_type": "code",
   "execution_count": 1,
   "id": "1ea90ca2",
   "metadata": {},
   "outputs": [
    {
     "name": "stdout",
     "output_type": "stream",
     "text": [
      "Enter the message: rubanginosingh\n",
      "Enter the key: hack\n",
      "Encrypted Message: ugshbii_rnogann_\n"
     ]
    }
   ],
   "source": [
    "import math\n",
    "  \n",
    "\n",
    "def encryptMessage(message):\n",
    "    cipher = \"\"\n",
    "    key_index = 0\n",
    "  \n",
    "    msg_len = float(len(message))\n",
    "    msg_lst = list(message)\n",
    "    key_lst = sorted(list(key))\n",
    "    \n",
    "    column = len(key)\n",
    "    \n",
    "    row = int(math.ceil(msg_len / column))\n",
    "  \n",
    "    fill_null = int((row * column) - msg_len)\n",
    "    msg_lst.extend('_' * fill_null)\n",
    "  \n",
    "    matrix = [msg_lst[i: i + column] for i in range(0, len(msg_lst), column)]\n",
    "  \n",
    "    for _ in range(column):\n",
    "        current_index = key.index(key_lst[key_index])\n",
    "        cipher += ''.join([row[current_index] \n",
    "                          for row in matrix])\n",
    "        key_index += 1\n",
    "  \n",
    "    return cipher\n",
    "\n",
    "message = input(\"Enter the message: \")\n",
    "key=input(\"Enter the key: \")\n",
    "  \n",
    "cipher = encryptMessage(message)\n",
    "print(\"Encrypted Message: {}\". format(cipher))"
   ]
  }
 ],
 "metadata": {
  "kernelspec": {
   "display_name": "Python 3",
   "language": "python",
   "name": "python3"
  },
  "language_info": {
   "codemirror_mode": {
    "name": "ipython",
    "version": 3
   },
   "file_extension": ".py",
   "mimetype": "text/x-python",
   "name": "python",
   "nbconvert_exporter": "python",
   "pygments_lexer": "ipython3",
   "version": "3.7.9"
  }
 },
 "nbformat": 4,
 "nbformat_minor": 5
}
